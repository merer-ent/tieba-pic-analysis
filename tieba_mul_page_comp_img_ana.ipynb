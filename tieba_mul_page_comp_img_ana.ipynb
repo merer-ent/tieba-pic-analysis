{
  "cells": [
    {
      "cell_type": "code",
      "execution_count": 1,
      "metadata": {
        "colab": {
          "base_uri": "https://localhost:8080/"
        },
        "id": "GDk0fR1bZkpt",
        "outputId": "20bad25e-6d63-4ba0-af81-719e64d118b6"
      },
      "outputs": [
        {
          "name": "stdout",
          "output_type": "stream",
          "text": [
            "Drive already mounted at /content/drive; to attempt to forcibly remount, call drive.mount(\"/content/drive\", force_remount=True).\n"
          ]
        }
      ],
      "source": [
        "from google.colab import drive\n",
        "drive.mount('/content/drive')"
      ]
    },
    {
      "cell_type": "code",
      "execution_count": 2,
      "metadata": {
        "colab": {
          "base_uri": "https://localhost:8080/"
        },
        "id": "ior-pWfBY2r1",
        "outputId": "9c70a11a-3be6-4423-b606-df509b9e4923"
      },
      "outputs": [
        {
          "name": "stdout",
          "output_type": "stream",
          "text": [
            "Requirement already satisfied: fake_useragent in /usr/local/lib/python3.10/dist-packages (2.0.3)\n"
          ]
        }
      ],
      "source": [
        "!pip install --upgrade fake_useragent\n",
        "from bs4 import BeautifulSoup, NavigableString\n",
        "import requests\n",
        "import os\n",
        "import io\n",
        "from time import sleep\n",
        "from fake_useragent import UserAgent\n",
        "from PIL import Image"
      ]
    },
    {
      "cell_type": "markdown",
      "metadata": {
        "id": "Bwyb48NeZKeL"
      },
      "source": [
        "page and index setting\n",
        "\n",
        "**REMEMBER TO CHANGE!**"
      ]
    },
    {
      "cell_type": "code",
      "execution_count": 3,
      "metadata": {
        "id": "fctEjKQvZK2l"
      },
      "outputs": [],
      "source": [
        "id = \"\"\n",
        "# 1st page, only main poster\n",
        "url = \"https://tieba.baidu.com/p/\"+id+\"?see_lz=1\"+\"&pn=1\"\n",
        "baseindex = 0\n",
        "crawler_maximg = 30"
      ]
    },
    {
      "cell_type": "markdown",
      "metadata": {
        "id": "ZzjpFLYwCxXc"
      },
      "source": [
        "PC browser is preferred"
      ]
    },
    {
      "cell_type": "code",
      "execution_count": 4,
      "metadata": {
        "colab": {
          "base_uri": "https://localhost:8080/"
        },
        "id": "wpdsUbMEZSOj",
        "outputId": "33cd8a51-2eae-439d-c020-17ffd7770008"
      },
      "outputs": [
        {
          "data": {
            "text/plain": [
              "{'User-Agent': 'Mozilla/5.0 (Windows NT 6.1; rv:109.0) Gecko/20100101 Firefox/115.0'}"
            ]
          },
          "execution_count": 4,
          "metadata": {},
          "output_type": "execute_result"
        }
      ],
      "source": [
        "ua = UserAgent()\n",
        "header = {\n",
        "    \"User-Agent\": ua.firefox\n",
        "    }\n",
        "# random/chrome/firefox/opera/edge\n",
        "header\n"
      ]
    },
    {
      "cell_type": "code",
      "execution_count": null,
      "metadata": {
        "id": "PGDjsGO9adyy"
      },
      "outputs": [],
      "source": [
        "def headerassign():\n",
        "    header = {\n",
        "    \"User-Agent\": ua.firefox\n",
        "    }# random/chrome/firefox/opera/edge\n",
        "    return header"
      ]
    },
    {
      "cell_type": "code",
      "execution_count": 5,
      "metadata": {
        "colab": {
          "base_uri": "https://localhost:8080/"
        },
        "id": "g4EJfM2w2KWQ",
        "outputId": "3673c38f-fe03-4e4a-b4d9-03e8acf97f9f"
      },
      "outputs": [
        {
          "name": "stderr",
          "output_type": "stream",
          "text": [
            "WARNING:fake_useragent:Error occurred during getting browser(s): __iter__, but was suppressed with fallback.\n"
          ]
        }
      ],
      "source": [
        "response1 = requests.get(url, headers=header)\n",
        "soup = BeautifulSoup(response1.text, \"html.parser\")"
      ]
    },
    {
      "cell_type": "markdown",
      "metadata": {
        "id": "Gr5ArxEUC58g"
      },
      "source": [
        "just for output test"
      ]
    },
    {
      "cell_type": "code",
      "execution_count": null,
      "metadata": {},
      "outputs": [],
      "source": [
        "#soup"
      ]
    },
    {
      "cell_type": "markdown",
      "metadata": {
        "id": "OmHZSRFqDA7Y"
      },
      "source": [
        "tags and texts"
      ]
    },
    {
      "cell_type": "code",
      "execution_count": 7,
      "metadata": {
        "colab": {
          "base_uri": "https://localhost:8080/",
          "height": 56
        },
        "id": "wrUUukhBOJRo",
        "outputId": "ef5d0782-975e-4b8e-9583-21c178d5e27e"
      },
      "outputs": [
        {
          "data": {
            "application/vnd.google.colaboratory.intrinsic+json": {
              "type": "string"
            },
            "text/plain": [
              "'6'"
            ]
          },
          "execution_count": 7,
          "metadata": {},
          "output_type": "execute_result"
        }
      ],
      "source": [
        "maxpagenum = soup.find_all(\"span\",{\"class\":\"red\"}, limit=2)\n",
        "maxpagenum = maxpagenum[1].text\n",
        "maxpagenum"
      ]
    },
    {
      "cell_type": "code",
      "execution_count": 8,
      "metadata": {
        "colab": {
          "base_uri": "https://localhost:8080/"
        },
        "id": "uaPCpvfTfSC0",
        "outputId": "0c6eb0d7-a87a-457f-bfb4-77494c1a271a"
      },
      "outputs": [
        {
          "name": "stderr",
          "output_type": "stream",
          "text": [
            "WARNING:fake_useragent:Error occurred during getting browser(s): __iter__, but was suppressed with fallback.\n"
          ]
        }
      ],
      "source": [
        "# 【图片】title【main_tieba】_百度贴吧\n",
        "title_tag = soup.find(\"title\")\n",
        "title_tag\n",
        "\n",
        "intro_tag = soup.find(\"div\",{\"class\":\"d_post_content j_d_post_content\"})\n",
        "intro = \"\"\n",
        "for child in intro_tag.children:\n",
        "    if isinstance(child, NavigableString):\n",
        "        intro += child.strip()\n",
        "    elif child.name == \"br\":\n",
        "        intro += \"\\n\"\n",
        "\n",
        "results = soup.find_all(\"img\", {\"class\": \"BDE_Image\"}, limit=crawler_maximg)"
      ]
    },
    {
      "cell_type": "markdown",
      "metadata": {
        "id": "JxrXoGUIkD9d"
      },
      "source": [
        "**REMEMBER TO ADJUST** title_full and title"
      ]
    },
    {
      "cell_type": "code",
      "execution_count": null,
      "metadata": {},
      "outputs": [],
      "source": [
        "# print\n",
        "title_full = title_tag.text[4:-5]\n",
        "title_full"
      ]
    },
    {
      "cell_type": "code",
      "execution_count": 10,
      "metadata": {
        "colab": {
          "base_uri": "https://localhost:8080/"
        },
        "id": "YAaJCbhYbbDj",
        "outputId": "0e4889eb-5763-467d-a914-5a7dd148e20c"
      },
      "outputs": [
        {
          "name": "stderr",
          "output_type": "stream",
          "text": [
            "WARNING:fake_useragent:Error occurred during getting browser(s): __iter__, but was suppressed with fallback.\n"
          ]
        }
      ],
      "source": [
        "# fulltitle【main_tieba】\n",
        "title = title_full[9:-11]\n",
        "image_links = [result.get(\"src\") for result in results]"
      ]
    },
    {
      "cell_type": "markdown",
      "metadata": {
        "id": "5cloDDMPDKJv"
      },
      "source": [
        "folder and intro"
      ]
    },
    {
      "cell_type": "code",
      "execution_count": 11,
      "metadata": {
        "colab": {
          "base_uri": "https://localhost:8080/"
        },
        "id": "NxMowh_ClxPU",
        "outputId": "63116cd4-a0d0-45b7-fc3d-41c4ee0b0d97"
      },
      "outputs": [
        {
          "name": "stderr",
          "output_type": "stream",
          "text": [
            "WARNING:fake_useragent:Error occurred during getting browser(s): __iter__, but was suppressed with fallback.\n"
          ]
        }
      ],
      "source": [
        "# create folder\n",
        "base = \"/content/drive/My Drive/\"+title\n",
        "#!mkdir str(base)\n",
        "if not os.path.exists(base):\n",
        "    os.mkdir(base)"
      ]
    },
    {
      "cell_type": "code",
      "execution_count": 12,
      "metadata": {
        "id": "bEnoyhZfZzmb"
      },
      "outputs": [],
      "source": [
        "# save intro\n",
        "introdir = base+\"/intro.txt\"\n",
        "with open(introdir, 'w', encoding='utf-8') as f:\n",
        "    f.write(intro)"
      ]
    },
    {
      "cell_type": "code",
      "execution_count": 13,
      "metadata": {
        "colab": {
          "base_uri": "https://localhost:8080/"
        },
        "id": "w8Ni1pw7ZW6U",
        "outputId": "c554aec6-2311-4133-d747-0a1de76872fb"
      },
      "outputs": [
        {
          "name": "stderr",
          "output_type": "stream",
          "text": [
            "WARNING:fake_useragent:Error occurred during getting browser(s): __iter__, but was suppressed with fallback.\n"
          ]
        },
        {
          "name": "stdout",
          "output_type": "stream",
          "text": [
            "1\t2\t"
          ]
        },
        {
          "name": "stderr",
          "output_type": "stream",
          "text": [
            "WARNING:fake_useragent:Error occurred during getting browser(s): __iter__, but was suppressed with fallback.\n"
          ]
        },
        {
          "name": "stdout",
          "output_type": "stream",
          "text": [
            "3\t4\t"
          ]
        },
        {
          "name": "stderr",
          "output_type": "stream",
          "text": [
            "WARNING:fake_useragent:Error occurred during getting browser(s): __iter__, but was suppressed with fallback.\n"
          ]
        },
        {
          "name": "stdout",
          "output_type": "stream",
          "text": [
            "5\t6\t"
          ]
        },
        {
          "name": "stderr",
          "output_type": "stream",
          "text": [
            "WARNING:fake_useragent:Error occurred during getting browser(s): __iter__, but was suppressed with fallback.\n"
          ]
        },
        {
          "name": "stdout",
          "output_type": "stream",
          "text": [
            "7\t8\t"
          ]
        },
        {
          "name": "stderr",
          "output_type": "stream",
          "text": [
            "WARNING:fake_useragent:Error occurred during getting browser(s): __iter__, but was suppressed with fallback.\n"
          ]
        },
        {
          "name": "stdout",
          "output_type": "stream",
          "text": [
            "9\t10\t11\t"
          ]
        },
        {
          "name": "stderr",
          "output_type": "stream",
          "text": [
            "WARNING:fake_useragent:Error occurred during getting browser(s): __iter__, but was suppressed with fallback.\n"
          ]
        },
        {
          "name": "stdout",
          "output_type": "stream",
          "text": [
            "12\t13\t"
          ]
        },
        {
          "name": "stderr",
          "output_type": "stream",
          "text": [
            "WARNING:fake_useragent:Error occurred during getting browser(s): __iter__, but was suppressed with fallback.\n"
          ]
        },
        {
          "name": "stdout",
          "output_type": "stream",
          "text": [
            "14\t"
          ]
        }
      ],
      "source": [
        "for index, link in enumerate(image_links):\n",
        "    imgresp = requests.get(link, headers=header, stream=True)\n",
        "    imgpath = base +\"/\"+ str(baseindex+index+1) + \".jpg\"\n",
        "    image = Image.open(io.BytesIO(imgresp.content))\n",
        "    image.save(imgpath)\n",
        "    sleep(3)\n",
        "    print(f\"{baseindex+index+1}\", end=\"\\t\")"
      ]
    },
    {
      "cell_type": "markdown",
      "metadata": {
        "id": "-bvNdHo6Ntsg"
      },
      "source": [
        "other pages if exists"
      ]
    },
    {
      "cell_type": "code",
      "execution_count": 41,
      "metadata": {
        "colab": {
          "base_uri": "https://localhost:8080/"
        },
        "id": "6uwt85bPTl4y",
        "outputId": "a416876f-5d3b-4293-a745-3276a488cabd"
      },
      "outputs": [
        {
          "data": {
            "text/plain": [
              "14"
            ]
          },
          "execution_count": 41,
          "metadata": {},
          "output_type": "execute_result"
        }
      ],
      "source": [
        "len(image_links)"
      ]
    },
    {
      "cell_type": "code",
      "execution_count": 15,
      "metadata": {
        "colab": {
          "base_uri": "https://localhost:8080/"
        },
        "id": "tYvjMbqiNyLI",
        "outputId": "823645d5-479d-494f-c846-6addaeb1acaf"
      },
      "outputs": [
        {
          "name": "stderr",
          "output_type": "stream",
          "text": [
            "WARNING:fake_useragent:Error occurred during getting browser(s): __iter__, but was suppressed with fallback.\n",
            "WARNING:fake_useragent:Error occurred during getting browser(s): __iter__, but was suppressed with fallback.\n",
            "WARNING:fake_useragent:Error occurred during getting browser(s): __iter__, but was suppressed with fallback.\n",
            "WARNING:fake_useragent:Error occurred during getting browser(s): __iter__, but was suppressed with fallback.\n",
            "WARNING:fake_useragent:Error occurred during getting browser(s): __iter__, but was suppressed with fallback.\n",
            "WARNING:fake_useragent:Error occurred during getting browser(s): __iter__, but was suppressed with fallback.\n",
            "WARNING:fake_useragent:Error occurred during getting browser(s): __iter__, but was suppressed with fallback.\n",
            "WARNING:fake_useragent:Error occurred during getting browser(s): __iter__, but was suppressed with fallback.\n",
            "WARNING:fake_useragent:Error occurred during getting browser(s): __iter__, but was suppressed with fallback.\n",
            "WARNING:fake_useragent:Error occurred during getting browser(s): __iter__, but was suppressed with fallback.\n",
            "WARNING:fake_useragent:Error occurred during getting browser(s): __iter__, but was suppressed with fallback.\n",
            "WARNING:fake_useragent:Error occurred during getting browser(s): __iter__, but was suppressed with fallback.\n",
            "WARNING:fake_useragent:Error occurred during getting browser(s): __iter__, but was suppressed with fallback.\n",
            "WARNING:fake_useragent:Error occurred during getting browser(s): __iter__, but was suppressed with fallback.\n",
            "WARNING:fake_useragent:Error occurred during getting browser(s): __iter__, but was suppressed with fallback.\n",
            "WARNING:fake_useragent:Error occurred during getting browser(s): __iter__, but was suppressed with fallback.\n",
            "WARNING:fake_useragent:Error occurred during getting browser(s): __iter__, but was suppressed with fallback.\n",
            "WARNING:fake_useragent:Error occurred during getting browser(s): __iter__, but was suppressed with fallback.\n",
            "WARNING:fake_useragent:Error occurred during getting browser(s): __iter__, but was suppressed with fallback.\n",
            "WARNING:fake_useragent:Error occurred during getting browser(s): __iter__, but was suppressed with fallback.\n",
            "WARNING:fake_useragent:Error occurred during getting browser(s): __iter__, but was suppressed with fallback.\n",
            "WARNING:fake_useragent:Error occurred during getting browser(s): __iter__, but was suppressed with fallback.\n",
            "WARNING:fake_useragent:Error occurred during getting browser(s): __iter__, but was suppressed with fallback.\n",
            "WARNING:fake_useragent:Error occurred during getting browser(s): __iter__, but was suppressed with fallback.\n",
            "WARNING:fake_useragent:Error occurred during getting browser(s): __iter__, but was suppressed with fallback.\n",
            "WARNING:fake_useragent:Error occurred during getting browser(s): __iter__, but was suppressed with fallback.\n",
            "WARNING:fake_useragent:Error occurred during getting browser(s): __iter__, but was suppressed with fallback.\n",
            "WARNING:fake_useragent:Error occurred during getting browser(s): __iter__, but was suppressed with fallback.\n",
            "WARNING:fake_useragent:Error occurred during getting browser(s): __iter__, but was suppressed with fallback.\n",
            "WARNING:fake_useragent:Error occurred during getting browser(s): __iter__, but was suppressed with fallback.\n",
            "WARNING:fake_useragent:Error occurred during getting browser(s): __iter__, but was suppressed with fallback.\n",
            "WARNING:fake_useragent:Error occurred during getting browser(s): __iter__, but was suppressed with fallback.\n"
          ]
        }
      ],
      "source": [
        "for i in range(2, int(maxpagenum)+1):\n",
        "    baseindex += len(image_links)\n",
        "    url = \"https://tieba.baidu.com/p/\"+id+\"?see_lz=1\"+\"&pn=\"+str(i)\n",
        "    response1 = requests.get(url, headers=header)\n",
        "    soup = BeautifulSoup(response1.text, \"html.parser\")\n",
        "\n",
        "    results = soup.find_all(\"img\", {\"class\": \"BDE_Image\"}, limit=crawler_maximg)\n",
        "    image_links = [result.get(\"src\") for result in results]\n",
        "\n",
        "    for index, link in enumerate(image_links):\n",
        "        imgresp = requests.get(link, headers=header, stream=True)\n",
        "        imgpath = base +\"/\"+ str(baseindex+index+1) + \".jpg\"\n",
        "        image = Image.open(io.BytesIO(imgresp.content))\n",
        "        image.save(imgpath)\n",
        "        sleep(3)\n"
      ]
    }
  ],
  "metadata": {
    "colab": {
      "provenance": []
    },
    "kernelspec": {
      "display_name": "Python 3",
      "name": "python3"
    },
    "language_info": {
      "name": "python"
    }
  },
  "nbformat": 4,
  "nbformat_minor": 0
}
